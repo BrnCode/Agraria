{
 "cells": [
  {
   "cell_type": "code",
   "execution_count": 2,
   "metadata": {
    "id": "zxVg6d64V1lI"
   },
   "outputs": [],
   "source": [
    "import pandas as pd\n",
    "import numpy as np\n",
    "\n",
    "import seaborn as sns  \n",
    "import matplotlib.pyplot as plt \n",
    "\n",
    "from statsmodels.tsa.seasonal import seasonal_decompose"
   ]
  },
  {
   "cell_type": "code",
   "execution_count": 7,
   "metadata": {
    "colab": {
     "base_uri": "https://localhost:8080/",
     "height": 206
    },
    "id": "WCdFSVWaV_EQ",
    "outputId": "e1a1b242-a93f-4d5e-bd92-b1a63d7486a8"
   },
   "outputs": [
    {
     "data": {
      "text/html": [
       "<div>\n",
       "<style scoped>\n",
       "    .dataframe tbody tr th:only-of-type {\n",
       "        vertical-align: middle;\n",
       "    }\n",
       "\n",
       "    .dataframe tbody tr th {\n",
       "        vertical-align: top;\n",
       "    }\n",
       "\n",
       "    .dataframe thead th {\n",
       "        text-align: right;\n",
       "    }\n",
       "</style>\n",
       "<table border=\"1\" class=\"dataframe\">\n",
       "  <thead>\n",
       "    <tr style=\"text-align: right;\">\n",
       "      <th></th>\n",
       "      <th>Data</th>\n",
       "      <th>Preço Soja</th>\n",
       "      <th>Farelo de Soja</th>\n",
       "      <th>Óleo de Palma</th>\n",
       "      <th>VIX Index</th>\n",
       "      <th>DXY</th>\n",
       "      <th>WTI</th>\n",
       "      <th>Brent</th>\n",
       "      <th>BDI</th>\n",
       "      <th>USDBRL</th>\n",
       "    </tr>\n",
       "  </thead>\n",
       "  <tbody>\n",
       "    <tr>\n",
       "      <th>0</th>\n",
       "      <td>2022-11-03</td>\n",
       "      <td>1437.00</td>\n",
       "      <td>414.3</td>\n",
       "      <td>896.44415</td>\n",
       "      <td>25.30</td>\n",
       "      <td>112.930</td>\n",
       "      <td>88.17</td>\n",
       "      <td>94.67</td>\n",
       "      <td>1290</td>\n",
       "      <td>5.1164</td>\n",
       "    </tr>\n",
       "    <tr>\n",
       "      <th>1</th>\n",
       "      <td>2022-11-02</td>\n",
       "      <td>1454.00</td>\n",
       "      <td>424.5</td>\n",
       "      <td>912.54431</td>\n",
       "      <td>25.86</td>\n",
       "      <td>111.345</td>\n",
       "      <td>90.00</td>\n",
       "      <td>96.16</td>\n",
       "      <td>1321</td>\n",
       "      <td>5.1468</td>\n",
       "    </tr>\n",
       "    <tr>\n",
       "      <th>2</th>\n",
       "      <td>2022-11-01</td>\n",
       "      <td>1447.75</td>\n",
       "      <td>424.8</td>\n",
       "      <td>881.15405</td>\n",
       "      <td>25.81</td>\n",
       "      <td>111.481</td>\n",
       "      <td>88.37</td>\n",
       "      <td>94.65</td>\n",
       "      <td>1377</td>\n",
       "      <td>5.1797</td>\n",
       "    </tr>\n",
       "    <tr>\n",
       "      <th>3</th>\n",
       "      <td>2022-10-31</td>\n",
       "      <td>1407.00</td>\n",
       "      <td>428.1</td>\n",
       "      <td>816.00708</td>\n",
       "      <td>25.88</td>\n",
       "      <td>111.527</td>\n",
       "      <td>86.53</td>\n",
       "      <td>94.83</td>\n",
       "      <td>1463</td>\n",
       "      <td>5.2954</td>\n",
       "    </tr>\n",
       "    <tr>\n",
       "      <th>4</th>\n",
       "      <td>2022-10-28</td>\n",
       "      <td>1387.75</td>\n",
       "      <td>425.4</td>\n",
       "      <td>809.90686</td>\n",
       "      <td>25.75</td>\n",
       "      <td>110.752</td>\n",
       "      <td>87.90</td>\n",
       "      <td>95.77</td>\n",
       "      <td>1534</td>\n",
       "      <td>5.3420</td>\n",
       "    </tr>\n",
       "  </tbody>\n",
       "</table>\n",
       "</div>"
      ],
      "text/plain": [
       "        Data  Preço Soja  Farelo de Soja  Óleo de Palma  VIX Index      DXY  \\\n",
       "0 2022-11-03     1437.00           414.3      896.44415      25.30  112.930   \n",
       "1 2022-11-02     1454.00           424.5      912.54431      25.86  111.345   \n",
       "2 2022-11-01     1447.75           424.8      881.15405      25.81  111.481   \n",
       "3 2022-10-31     1407.00           428.1      816.00708      25.88  111.527   \n",
       "4 2022-10-28     1387.75           425.4      809.90686      25.75  110.752   \n",
       "\n",
       "     WTI  Brent   BDI  USDBRL  \n",
       "0  88.17  94.67  1290  5.1164  \n",
       "1  90.00  96.16  1321  5.1468  \n",
       "2  88.37  94.65  1377  5.1797  \n",
       "3  86.53  94.83  1463  5.2954  \n",
       "4  87.90  95.77  1534  5.3420  "
      ]
     },
     "execution_count": 7,
     "metadata": {},
     "output_type": "execute_result"
    }
   ],
   "source": [
    "df = pd.read_excel('.\\Dados\\Dados prontos.xlsx')\n",
    "df.head()"
   ]
  },
  {
   "cell_type": "code",
   "execution_count": 8,
   "metadata": {
    "colab": {
     "base_uri": "https://localhost:8080/"
    },
    "id": "qngiAcTqWNG5",
    "outputId": "834ed4c7-eb4f-4bbf-a4da-d19017f71938"
   },
   "outputs": [
    {
     "data": {
      "text/plain": [
       "Data              datetime64[ns]\n",
       "Preço Soja               float64\n",
       "Farelo de Soja           float64\n",
       "Óleo de Palma            float64\n",
       "VIX Index                float64\n",
       "DXY                      float64\n",
       "WTI                      float64\n",
       "Brent                    float64\n",
       "BDI                        int64\n",
       "USDBRL                   float64\n",
       "dtype: object"
      ]
     },
     "execution_count": 8,
     "metadata": {},
     "output_type": "execute_result"
    }
   ],
   "source": [
    "df.dtypes"
   ]
  },
  {
   "cell_type": "code",
   "execution_count": 9,
   "metadata": {
    "colab": {
     "base_uri": "https://localhost:8080/"
    },
    "id": "hSXOeLiXWn20",
    "outputId": "3cfb569c-48a1-4f7e-b494-95f5c9fee638"
   },
   "outputs": [
    {
     "data": {
      "text/plain": [
       "(2502, 10)"
      ]
     },
     "execution_count": 9,
     "metadata": {},
     "output_type": "execute_result"
    }
   ],
   "source": [
    "df.shape"
   ]
  },
  {
   "cell_type": "code",
   "execution_count": null,
   "metadata": {
    "colab": {
     "base_uri": "https://localhost:8080/"
    },
    "id": "iPDlTJnLWo0o",
    "outputId": "9f587767-2e12-443d-85c2-e2781eeb87a0"
   },
   "outputs": [],
   "source": [
    "df.isna().sum()"
   ]
  },
  {
   "cell_type": "code",
   "execution_count": null,
   "metadata": {
    "colab": {
     "base_uri": "https://localhost:8080/"
    },
    "id": "mpSH_Np6WrpD",
    "outputId": "c27dd293-6f69-4e74-8e25-4637c6c973b2"
   },
   "outputs": [],
   "source": [
    "df[['Preço Soja', 'Farelo de Soja', 'BDI']] = df[['Preço Soja', 'Farelo de Soja', 'BDI']].interpolate(method ='linear', limit_direction ='forward')\n",
    "df[['Preço Soja', 'Farelo de Soja', 'BDI']] = df[['Preço Soja', 'Farelo de Soja', 'BDI']].interpolate(method ='linear', limit_direction ='backward', limit = 1)\n",
    "df.isna().sum()"
   ]
  },
  {
   "cell_type": "code",
   "execution_count": null,
   "metadata": {
    "colab": {
     "base_uri": "https://localhost:8080/",
     "height": 718
    },
    "id": "OVpvNWsKYAdQ",
    "outputId": "69c8cce5-4943-45d8-f6cd-ec91087ea1dc"
   },
   "outputs": [],
   "source": [
    "ax, fig =plt.subplots(figsize=(20,10))\n",
    "# sns.heatmap(retorno.corr(), annot=True);\n",
    "#upp_mat = np.triu(retorno.corr())\n",
    "sns.heatmap(df[['Preço Soja', 'Farelo de Soja', 'Óleo de Palma', 'VIX Index',\n",
    "       'DXY', 'WTI', 'Brent', 'BDI', 'USDBRL']].corr(), annot=True, vmax=1, vmin=-1, cmap='coolwarm');"
   ]
  },
  {
   "cell_type": "code",
   "execution_count": null,
   "metadata": {
    "colab": {
     "base_uri": "https://localhost:8080/",
     "height": 718
    },
    "id": "B4WqZSxzcvEG",
    "outputId": "f593438e-bec5-4b5f-dd3c-0cb7bb01c522"
   },
   "outputs": [],
   "source": [
    "ax, fig =plt.subplots(figsize=(20,10))\n",
    "# sns.heatmap(retorno.corr(), annot=True);\n",
    "#upp_mat = np.triu(retorno.corr())\n",
    "sns.heatmap(df[['Preço Soja', 'Farelo de Soja', 'Óleo de Palma', 'VIX Index',\n",
    "       'DXY', 'WTI', 'Brent', 'BDI', 'USDBRL']].corr(method='spearman'), annot=True, vmax=1, vmin=-1, cmap='coolwarm');"
   ]
  },
  {
   "cell_type": "code",
   "execution_count": null,
   "metadata": {
    "colab": {
     "base_uri": "https://localhost:8080/",
     "height": 485
    },
    "id": "zSsh2z_ccZKL",
    "outputId": "21991826-7ef9-4e76-e81f-bdb51475e8c5"
   },
   "outputs": [],
   "source": [
    "sns.set()\n",
    "df[['Preço Soja', 'Farelo de Soja', 'Óleo de Palma', 'VIX Index',\n",
    "       'DXY', 'WTI', 'Brent', 'BDI', 'USDBRL']].plot(subplots=True, figsize=(22,8));"
   ]
  },
  {
   "cell_type": "code",
   "execution_count": null,
   "metadata": {
    "id": "ovCG04DVPFXj"
   },
   "outputs": [],
   "source": [
    "import plotly.express as px\n",
    "from plotly.subplots import make_subplots\n",
    "import plotly.graph_objects as go"
   ]
  },
  {
   "cell_type": "code",
   "execution_count": null,
   "metadata": {
    "colab": {
     "base_uri": "https://localhost:8080/",
     "height": 542
    },
    "id": "r14RvKaC6YgV",
    "outputId": "be044062-311c-448d-d775-8706fe2fe93c"
   },
   "outputs": [],
   "source": [
    "fig = px.line(df, x='Data', y=['Preço Soja', 'Farelo de Soja', 'Óleo de Palma', 'VIX Index',\n",
    "       'DXY', 'WTI', 'Brent', 'BDI', 'USDBRL'])\n",
    "fig.show()"
   ]
  },
  {
   "cell_type": "code",
   "execution_count": null,
   "metadata": {
    "colab": {
     "base_uri": "https://localhost:8080/"
    },
    "id": "FeFfkxXtclL5",
    "outputId": "85048d9d-d497-4ef9-b59e-a30e2fb1b5cb"
   },
   "outputs": [],
   "source": [
    "df.columns"
   ]
  },
  {
   "cell_type": "code",
   "execution_count": null,
   "metadata": {
    "id": "sxUmgiavcfm0"
   },
   "outputs": [],
   "source": [
    "decomposicaoPreco = seasonal_decompose(df[['Preço Soja']], model='additive', period=30, extrapolate_trend=30)  \n",
    "decomposicaoFarelo = seasonal_decompose(df[['Farelo de Soja']], model='additive', period=30, extrapolate_trend=30)  \n",
    "decomposicaoPalma = seasonal_decompose(df[['Óleo de Palma']], model='additive', period=30, extrapolate_trend=30)  \n",
    "decomposicaoVIX = seasonal_decompose(df[['VIX Index']], model='additive', period=30, extrapolate_trend=30)  \n",
    "decomposicaoDXY = seasonal_decompose(df[['DXY']], model='additive', period=30, extrapolate_trend=30)  \n",
    "decomposicaoWTI = seasonal_decompose(df[['WTI']], model='additive', period=30, extrapolate_trend=30)  \n",
    "decomposicaoBrent = seasonal_decompose(df[['Brent']], model='additive', period=30, extrapolate_trend=30)  \n",
    "decomposicaoBDI = seasonal_decompose(df[['BDI']], model='additive', period=30, extrapolate_trend=30)  \n",
    "decomposicaoUSDBRL = seasonal_decompose(df[['USDBRL']], model='additive', period=30, extrapolate_trend=30)  "
   ]
  },
  {
   "cell_type": "code",
   "execution_count": null,
   "metadata": {
    "colab": {
     "base_uri": "https://localhost:8080/",
     "height": 551
    },
    "id": "TKrbsKCweAt8",
    "outputId": "223224f5-bce7-4a1f-f186-434b2d4d1b5f"
   },
   "outputs": [],
   "source": [
    "fig, (ax1, ax2, ax3, ax4, ax5, ax6, ax7, ax8, ax9) = plt.subplots(9,1, figsize=(30,12))\n",
    "decomposicaoPreco.seasonal.plot(ax=ax1)  \n",
    "decomposicaoFarelo.seasonal.plot(ax=ax2)  \n",
    "decomposicaoPalma.seasonal.plot(ax=ax3)\n",
    "decomposicaoVIX.seasonal.plot(ax=ax4) \n",
    "decomposicaoDXY.seasonal.plot(ax=ax5)\n",
    "decomposicaoWTI.seasonal.plot(ax=ax6)  \n",
    "decomposicaoBrent.seasonal.plot(ax=ax7)  \n",
    "decomposicaoBDI.seasonal.plot(ax=ax8)\n",
    "decomposicaoUSDBRL.seasonal.plot(ax=ax9)\n",
    "plt.tight_layout()"
   ]
  },
  {
   "cell_type": "markdown",
   "metadata": {
    "id": "bnZZF2DH5QgN"
   },
   "source": [
    "Em curto prazo não se tem sinal de pra onde esses indicadores estão indo"
   ]
  },
  {
   "cell_type": "code",
   "execution_count": null,
   "metadata": {
    "id": "4hwspY0wuiXh"
   },
   "outputs": [],
   "source": [
    "decomposicaoPreco = seasonal_decompose(df[['Preço Soja']], model='additive', period=60, extrapolate_trend=60)  \n",
    "decomposicaoFarelo = seasonal_decompose(df[['Farelo de Soja']], model='additive', period=60, extrapolate_trend=60)  \n",
    "decomposicaoPalma = seasonal_decompose(df[['Óleo de Palma']], model='additive', period=60, extrapolate_trend=60)  \n",
    "decomposicaoVIX = seasonal_decompose(df[['VIX Index']], model='additive', period=60, extrapolate_trend=60)  \n",
    "decomposicaoDXY = seasonal_decompose(df[['DXY']], model='additive', period=60, extrapolate_trend=60)  \n",
    "decomposicaoWTI = seasonal_decompose(df[['WTI']], model='additive', period=60, extrapolate_trend=60)  \n",
    "decomposicaoBrent = seasonal_decompose(df[['Brent']], model='additive', period=60, extrapolate_trend=60)  \n",
    "decomposicaoBDI = seasonal_decompose(df[['BDI']], model='additive', period=60, extrapolate_trend=60)  \n",
    "decomposicaoUSDBRL = seasonal_decompose(df[['USDBRL']], model='additive', period=60, extrapolate_trend=60)  "
   ]
  },
  {
   "cell_type": "code",
   "execution_count": null,
   "metadata": {
    "colab": {
     "base_uri": "https://localhost:8080/",
     "height": 551
    },
    "id": "pgr5xxlqurLh",
    "outputId": "4104f798-076a-476b-a2ab-ea572023fd9a"
   },
   "outputs": [],
   "source": [
    "fig, (ax1, ax2, ax3, ax4, ax5, ax6, ax7, ax8, ax9) = plt.subplots(9,1, figsize=(30,12))\n",
    "decomposicaoPreco.seasonal.plot(ax=ax1)  \n",
    "decomposicaoFarelo.seasonal.plot(ax=ax2)  \n",
    "decomposicaoPalma.seasonal.plot(ax=ax3)\n",
    "decomposicaoVIX.seasonal.plot(ax=ax4) \n",
    "decomposicaoDXY.seasonal.plot(ax=ax5)\n",
    "decomposicaoWTI.seasonal.plot(ax=ax6)  \n",
    "decomposicaoBrent.seasonal.plot(ax=ax7)  \n",
    "decomposicaoBDI.seasonal.plot(ax=ax8)\n",
    "decomposicaoUSDBRL.seasonal.plot(ax=ax9)\n",
    "plt.tight_layout()"
   ]
  },
  {
   "cell_type": "code",
   "execution_count": null,
   "metadata": {
    "id": "7KPEiHoTuiHH"
   },
   "outputs": [],
   "source": [
    "decomposicaoPreco = seasonal_decompose(df[['Preço Soja']], model='additive', period=80, extrapolate_trend=80)  \n",
    "decomposicaoFarelo = seasonal_decompose(df[['Farelo de Soja']], model='additive', period=80, extrapolate_trend=80)  \n",
    "decomposicaoPalma = seasonal_decompose(df[['Óleo de Palma']], model='additive', period=80, extrapolate_trend=80)  \n",
    "decomposicaoVIX = seasonal_decompose(df[['VIX Index']], model='additive', period=80, extrapolate_trend=80)  \n",
    "decomposicaoDXY = seasonal_decompose(df[['DXY']], model='additive', period=80, extrapolate_trend=80)  \n",
    "decomposicaoWTI = seasonal_decompose(df[['WTI']], model='additive', period=80, extrapolate_trend=80)  \n",
    "decomposicaoBrent = seasonal_decompose(df[['Brent']], model='additive', period=80, extrapolate_trend=80)  \n",
    "decomposicaoBDI = seasonal_decompose(df[['BDI']], model='additive', period=80, extrapolate_trend=80)  \n",
    "decomposicaoUSDBRL = seasonal_decompose(df[['USDBRL']], model='additive', period=80, extrapolate_trend=80)  "
   ]
  },
  {
   "cell_type": "code",
   "execution_count": null,
   "metadata": {
    "colab": {
     "base_uri": "https://localhost:8080/",
     "height": 551
    },
    "id": "0vd_mA0yurpx",
    "outputId": "e52149fa-2c70-440b-9d99-885adbd44c67"
   },
   "outputs": [],
   "source": [
    "fig, (ax1, ax2, ax3, ax4, ax5, ax6, ax7, ax8, ax9) = plt.subplots(9,1, figsize=(30,12))\n",
    "decomposicaoPreco.seasonal.plot(ax=ax1)  \n",
    "decomposicaoFarelo.seasonal.plot(ax=ax2)  \n",
    "decomposicaoPalma.seasonal.plot(ax=ax3)\n",
    "decomposicaoVIX.seasonal.plot(ax=ax4) \n",
    "decomposicaoDXY.seasonal.plot(ax=ax5)\n",
    "decomposicaoWTI.seasonal.plot(ax=ax6)  \n",
    "decomposicaoBrent.seasonal.plot(ax=ax7)  \n",
    "decomposicaoBDI.seasonal.plot(ax=ax8)\n",
    "decomposicaoUSDBRL.seasonal.plot(ax=ax9)\n",
    "plt.tight_layout()"
   ]
  },
  {
   "cell_type": "code",
   "execution_count": null,
   "metadata": {
    "id": "Pkyd3yOQuhk_"
   },
   "outputs": [],
   "source": [
    "decomposicaoPreco = seasonal_decompose(df[['Preço Soja']], model='additive', period=90, extrapolate_trend=90)  \n",
    "decomposicaoFarelo = seasonal_decompose(df[['Farelo de Soja']], model='additive', period=90, extrapolate_trend=90)  \n",
    "decomposicaoPalma = seasonal_decompose(df[['Óleo de Palma']], model='additive', period=90, extrapolate_trend=90)  \n",
    "decomposicaoVIX = seasonal_decompose(df[['VIX Index']], model='additive', period=90, extrapolate_trend=90)  \n",
    "decomposicaoDXY = seasonal_decompose(df[['DXY']], model='additive', period=90, extrapolate_trend=90)  \n",
    "decomposicaoWTI = seasonal_decompose(df[['WTI']], model='additive', period=90, extrapolate_trend=90)  \n",
    "decomposicaoBrent = seasonal_decompose(df[['Brent']], model='additive', period=90, extrapolate_trend=90)  \n",
    "decomposicaoBDI = seasonal_decompose(df[['BDI']], model='additive', period=90, extrapolate_trend=90)  \n",
    "decomposicaoUSDBRL = seasonal_decompose(df[['USDBRL']], model='additive', period=90, extrapolate_trend=90)  "
   ]
  },
  {
   "cell_type": "code",
   "execution_count": null,
   "metadata": {
    "colab": {
     "base_uri": "https://localhost:8080/",
     "height": 551
    },
    "id": "8ec--BO5usT9",
    "outputId": "cf6a2cd0-7bd9-40f8-e333-70c996744045"
   },
   "outputs": [],
   "source": [
    "fig, (ax1, ax2, ax3, ax4, ax5, ax6, ax7, ax8, ax9) = plt.subplots(9,1, figsize=(30,12))\n",
    "decomposicaoPreco.seasonal.plot(ax=ax1)  \n",
    "decomposicaoFarelo.seasonal.plot(ax=ax2)  \n",
    "decomposicaoPalma.seasonal.plot(ax=ax3)\n",
    "decomposicaoVIX.seasonal.plot(ax=ax4) \n",
    "decomposicaoDXY.seasonal.plot(ax=ax5)\n",
    "decomposicaoWTI.seasonal.plot(ax=ax6)  \n",
    "decomposicaoBrent.seasonal.plot(ax=ax7)  \n",
    "decomposicaoBDI.seasonal.plot(ax=ax8)\n",
    "decomposicaoUSDBRL.seasonal.plot(ax=ax9)\n",
    "plt.tight_layout()"
   ]
  },
  {
   "cell_type": "markdown",
   "metadata": {
    "id": "V3x0ZQU_5TkD"
   },
   "source": [
    "quarto grafico de baixo pra cima tem crescente e tem um vale bem grande. Analisando ele, vesse que esse indicador tem uma tendencia de alta pela sazonalidade e esse periodo entre uma baixa e uma alta, dura 90 dias.\n"
   ]
  },
  {
   "cell_type": "code",
   "execution_count": null,
   "metadata": {
    "id": "H-u89IZ6udZD"
   },
   "outputs": [],
   "source": [
    "decomposicaoPreco = seasonal_decompose(df[['Preço Soja']], model='additive', period=365, extrapolate_trend=365)  \n",
    "decomposicaoFarelo = seasonal_decompose(df[['Farelo de Soja']], model='additive', period=365, extrapolate_trend=365)  \n",
    "decomposicaoPalma = seasonal_decompose(df[['Óleo de Palma']], model='additive', period=365, extrapolate_trend=365)  \n",
    "decomposicaoVIX = seasonal_decompose(df[['VIX Index']], model='additive', period=365, extrapolate_trend=365)  \n",
    "decomposicaoDXY = seasonal_decompose(df[['DXY']], model='additive', period=365, extrapolate_trend=365)  \n",
    "decomposicaoWTI = seasonal_decompose(df[['WTI']], model='additive', period=365, extrapolate_trend=365)  \n",
    "decomposicaoBrent = seasonal_decompose(df[['Brent']], model='additive', period=365, extrapolate_trend=365)  \n",
    "decomposicaoBDI = seasonal_decompose(df[['BDI']], model='additive', period=365, extrapolate_trend=365)  \n",
    "decomposicaoUSDBRL = seasonal_decompose(df[['USDBRL']], model='additive', period=365, extrapolate_trend=365)  "
   ]
  },
  {
   "cell_type": "code",
   "execution_count": null,
   "metadata": {
    "colab": {
     "base_uri": "https://localhost:8080/",
     "height": 551
    },
    "id": "ZWOPSsXDus4c",
    "outputId": "34a4567a-75fd-4c71-ccfc-cb456c55ee38"
   },
   "outputs": [],
   "source": [
    "fig, (ax1, ax2, ax3, ax4, ax5, ax6, ax7, ax8, ax9) = plt.subplots(9,1, figsize=(30,12))\n",
    "decomposicaoPreco.seasonal.plot(ax=ax1)  \n",
    "decomposicaoFarelo.seasonal.plot(ax=ax2)  \n",
    "decomposicaoPalma.seasonal.plot(ax=ax3)\n",
    "decomposicaoVIX.seasonal.plot(ax=ax4) \n",
    "decomposicaoDXY.seasonal.plot(ax=ax5)\n",
    "decomposicaoWTI.seasonal.plot(ax=ax6)  \n",
    "decomposicaoBrent.seasonal.plot(ax=ax7)  \n",
    "decomposicaoBDI.seasonal.plot(ax=ax8)\n",
    "decomposicaoUSDBRL.seasonal.plot(ax=ax9)\n",
    "plt.tight_layout()"
   ]
  },
  {
   "cell_type": "markdown",
   "metadata": {
    "id": "4xfbamq15jwb"
   },
   "source": [
    "Ulimo grafico, no periodo de um ano uma tendencia de crescimento dada a sazonalidade. "
   ]
  },
  {
   "cell_type": "code",
   "execution_count": null,
   "metadata": {
    "id": "tmlt9YJra76y"
   },
   "outputs": [],
   "source": [
    "decomposicaoPreco1 = seasonal_decompose(df[['Preço Soja']], model='additive', period=30, extrapolate_trend=30)\n",
    "decomposicaoPreco2 = seasonal_decompose(df[['Preço Soja']], model='additive', period=90, extrapolate_trend=90)\n",
    "decomposicaoPreco3 = seasonal_decompose(df[['Preço Soja']], model='additive', period=365, extrapolate_trend=365)"
   ]
  },
  {
   "cell_type": "code",
   "execution_count": null,
   "metadata": {
    "colab": {
     "base_uri": "https://localhost:8080/",
     "height": 370
    },
    "id": "7DP-O8Pbb0Ta",
    "outputId": "208f8b44-642a-41df-f94c-3002ae018dc6"
   },
   "outputs": [],
   "source": [
    "fig, (ax1, ax2, ax3) = plt.subplots(3,1, figsize=(30,8))\n",
    "decomposicaoPreco1.seasonal.plot(ax=ax1)  \n",
    "decomposicaoPreco2.seasonal.plot(ax=ax2)\n",
    "decomposicaoPreco3.seasonal.plot(ax=ax3)\n",
    "plt.tight_layout()"
   ]
  },
  {
   "cell_type": "code",
   "execution_count": null,
   "metadata": {
    "colab": {
     "base_uri": "https://localhost:8080/",
     "height": 1000
    },
    "id": "cwr8UAl9eymF",
    "outputId": "33eff1a6-1265-424d-b807-2355a9f5cb73"
   },
   "outputs": [],
   "source": [
    "sns.pairplot(df[['Preço Soja', 'Farelo de Soja', 'Óleo de Palma', 'VIX Index',\n",
    "       'DXY', 'WTI', 'Brent', 'BDI', 'USDBRL']]);"
   ]
  },
  {
   "cell_type": "markdown",
   "metadata": {
    "id": "tzdPi6jGgoXH"
   },
   "source": [
    "Analise de distribuição"
   ]
  },
  {
   "cell_type": "code",
   "execution_count": null,
   "metadata": {
    "colab": {
     "base_uri": "https://localhost:8080/",
     "height": 492
    },
    "id": "gNTTFXXpgwzx",
    "outputId": "0a256f74-c4ed-43c0-bd48-08c6ebcb1c01"
   },
   "outputs": [],
   "source": [
    "sns.set(color_codes=True)\n",
    "sns.set_context(\"paper\",font_scale=2)\n",
    "sns.set_style(\"white\")\n",
    "df['Preço Soja'].plot(figsize=(20,8));"
   ]
  },
  {
   "cell_type": "code",
   "execution_count": null,
   "metadata": {
    "colab": {
     "base_uri": "https://localhost:8080/"
    },
    "id": "2MnwPamR8Hg_",
    "outputId": "57de603a-b241-437d-92b8-750d1cf14f12"
   },
   "outputs": [],
   "source": [
    "decomposicaoPreco.seasonal"
   ]
  },
  {
   "cell_type": "code",
   "execution_count": null,
   "metadata": {
    "colab": {
     "base_uri": "https://localhost:8080/",
     "height": 492
    },
    "id": "V366-lHHZDpT",
    "outputId": "340de06d-5ab5-4c9d-a81a-d0ee1d04bbdf"
   },
   "outputs": [],
   "source": [
    "subtração = (df['Preço Soja'] - (decomposicaoPreco.seasonal))\n",
    "sns.set(color_codes=True)\n",
    "sns.set_context(\"paper\",font_scale=2)\n",
    "sns.set_style(\"white\")\n",
    "subtração.plot(figsize=(20,8));"
   ]
  },
  {
   "cell_type": "code",
   "execution_count": null,
   "metadata": {
    "colab": {
     "base_uri": "https://localhost:8080/",
     "height": 492
    },
    "id": "RmqzW6llu0Nt",
    "outputId": "12a8e8ec-9a69-4b94-b68b-68b9ac7e8255"
   },
   "outputs": [],
   "source": [
    "df1 = df['Preço Soja'].pct_change(1)*100\n",
    "sns.set(color_codes=True)\n",
    "sns.set_context(\"paper\",font_scale=2)\n",
    "sns.set_style(\"white\")\n",
    "df1.plot(figsize=(20,8));"
   ]
  },
  {
   "cell_type": "code",
   "execution_count": null,
   "metadata": {
    "colab": {
     "base_uri": "https://localhost:8080/",
     "height": 275
    },
    "id": "FkFp4ZaZ9bvK",
    "outputId": "d6c6b2a0-5d02-405d-c1aa-01945e37e5b6"
   },
   "outputs": [],
   "source": [
    "df1.hist();"
   ]
  }
 ],
 "metadata": {
  "colab": {
   "provenance": []
  },
  "kernelspec": {
   "display_name": "Python 3 (ipykernel)",
   "language": "python",
   "name": "python3"
  },
  "language_info": {
   "codemirror_mode": {
    "name": "ipython",
    "version": 3
   },
   "file_extension": ".py",
   "mimetype": "text/x-python",
   "name": "python",
   "nbconvert_exporter": "python",
   "pygments_lexer": "ipython3",
   "version": "3.9.13"
  }
 },
 "nbformat": 4,
 "nbformat_minor": 1
}
